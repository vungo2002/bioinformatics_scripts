{
 "cells": [
  {
   "cell_type": "markdown",
   "id": "770c4418-c292-4103-8a52-bad4615ea78a",
   "metadata": {},
   "source": [
    "## Generate FASTQ reads \n",
    "- load fastq sequence\n",
    "- load converted_hap_gen_input \n",
    "- for each region/sequence, generate a number of reads based on desired coverage"
   ]
  },
  {
   "cell_type": "code",
   "execution_count": 1,
   "id": "26c3bb64-0948-4dde-a253-d4d516b3315f",
   "metadata": {},
   "outputs": [],
   "source": [
    "import os\n",
    "import subprocess\n",
    "import numpy as np\n",
    "import logging\n",
    "\n",
    "logging.basicConfig(level=logging.DEBUG)\n",
    "\n",
    "\n",
    "def load_ref(fastaFile, targetChrom=None):\n",
    "    \"\"\"\n",
    "    Load the reference genome from a single fasta file.\n",
    "    - If sequence name is specified, only load that sequence.\n",
    "    \"\"\"\n",
    "    chroms = open(fastaFile).read().split(\">\")[1:]\n",
    "    refSeqs = {}\n",
    "    for chrom in chroms:\n",
    "        tmp = chrom.split()\n",
    "        chr_name = tmp[0]\n",
    "        if targetChrom != None:\n",
    "            if chr_name != targetChrom:\n",
    "                continue\n",
    "        seq = ''.join(tmp[1:])\n",
    "        refSeqs[chr_name] = seq\n",
    "    return refSeqs\n",
    "\n",
    "def load_hap_gen_input(hapGenBed):\n",
    "    \"\"\"\n",
    "    Read haplotype generator input BED file\n",
    "    \"\"\"\n",
    "    hapGenInput = []\n",
    "    for line in open(hapGenBed, 'r'):\n",
    "        line = line.strip().split('\\t')\n",
    "        if len(line) > 3:\n",
    "            line[1] = int(line[1])\n",
    "            hapGenInput += [line]\n",
    "    return hapGenInput\n",
    "\n",
    "\n",
    "\n",
    "def make_art_sim_reads(ART_PATH, read1_prof, read2_prof, fasta_file, fold_cov, output_prefix, read_length='100', frag_size_mean='200', frag_size_std='20'):\n",
    "    cmd = [ART_PATH, '-1', read1_prof, '-2', read2_prof, '-na', '-i', fasta_file, '-p', '-f', fold_cov, '-l', read_length, \n",
    "           '-m', frag_size_mean, '-s', frag_size_std, '-o', output_prefix]\n",
    "    logging.info(' '.join(cmd))\n",
    "    subprocess.run(cmd, check=True, capture_output=True)\n",
    "    return\n",
    "\n",
    "    \n",
    "\n",
    "def make_art_sim_reads_all_regions(ART_PATH, hap_gen_input, hap_seqs, read1_prof, read2_prof, tmp_out_dir):\n",
    "    \"\"\"\n",
    "    INPUT: hap_gen_input, hap_seqs, read1_profile, read2_profile\n",
    "\n",
    "    Generates fastq files for each region, the combine them all together into 2 FASTQ files\n",
    "\n",
    "    NOTES:\n",
    "    - If there are multiple variants in a region/sequence, the coverage for that region will be the average of those variants.\n",
    "    \"\"\"\n",
    "    try:\n",
    "        os.makedirs(tmp_out_dir)\n",
    "    except FileExistsError:\n",
    "        logging.warning(\"Dir exists:\" + tmp_out_dir)\n",
    "    for seq in hap_seqs:\n",
    "        # look for all variants in this seq, there isn't any, continue\n",
    "        covs = []\n",
    "        for ele in hap_gen_input:\n",
    "            if ele[0] == seq:\n",
    "                covs += [float(ele[4])]\n",
    "        if covs == []: #this sequence doesn't contain any variant\n",
    "            #print(seq + ' does not contain any variant')\n",
    "            continue\n",
    "        else:\n",
    "            # make a fasta file for just this sequence\n",
    "            fasta_file = 'tmp.' + seq + '.fa'\n",
    "            with open(fasta_file, 'w') as f:\n",
    "                f.write('>' + seq + '\\n')\n",
    "                f.write(hap_seqs[seq] + '\\n')\n",
    "            fold_cov = str(np.mean(covs))\n",
    "            output_prefix = out_dir + '/' + seq + \"_\"\n",
    "            make_art_sim_reads(ART_PATH, read1_prof, read2_prof, fasta_file, fold_cov, output_prefix)\n",
    "            os.remove(fasta_file) # remove tmp file\n",
    "    \n",
    "    # combine all output .fq files by read number\n",
    "    subprocess.run([\"cat \" + tmp_out_dir + \"/*_1.fq > \" + tmp_out_dir + \"_R1.fq\"], shell=True, check=True, capture_output=True)\n",
    "    subprocess.run([\"cat \" + tmp_out_dir + \"/*_2.fq > \" + tmp_out_dir + \"_R2.fq\"], shell=True, check=True, capture_output=True)\n",
    "    \n",
    "    # remove the individual fastq files\n",
    "    subprocess.run([\"rm -r \" + tmp_out_dir], shell=True, check=True, capture_output=True)\n",
    "    \n",
    "    return"
   ]
  },
  {
   "cell_type": "code",
   "execution_count": 3,
   "id": "5e942adf-bc20-4e5a-9e71-c7a37c7a7917",
   "metadata": {},
   "outputs": [
    {
     "name": "stderr",
     "output_type": "stream",
     "text": [
      "INFO:root:/home/vngo/tools/art_bin_MountRainier/art_illumina -1 art_models/ctDNAFusion_profileR1.txt -2 art_models/ctDNAFusion_profileR2.txt -na -i tmp.chr1:99999500-100000500_HAP1.fa -p -f 585.9145086068711 -l 100 -m 200 -s 20 -o test_output/fastq/hap1/chr1:99999500-100000500_HAP1_\n",
      "INFO:root:/home/vngo/tools/art_bin_MountRainier/art_illumina -1 art_models/ctDNAFusion_profileR1.txt -2 art_models/ctDNAFusion_profileR2.txt -na -i tmp.chr1:199999400-200000400_HAP1.fa -p -f 279.5261965492769 -l 100 -m 200 -s 20 -o test_output/fastq/hap1/chr1:199999400-200000400_HAP1_\n"
     ]
    }
   ],
   "source": [
    "ART_PATH = '/home/vngo/tools/art_bin_MountRainier/art_illumina'\n",
    "hapGenBed = \"test_output/haplotypes/HAP1_conv_input.txt\"\n",
    "fastaFile = \"test_output/haplotypes/HAP1.sim.fa\"\n",
    "hap_gen_input = load_hap_gen_input(hapGenBed)\n",
    "hap_seqs = load_ref(fastaFile, targetChrom=None)\n",
    "\n",
    "read1_prof = 'art_models/ctDNAFusion_profileR1.txt'\n",
    "read2_prof = 'art_models/ctDNAFusion_profileR2.txt'\n",
    "out_dir = \"test_output/fastq/hap1\"\n",
    "\n",
    "make_art_sim_reads_all_regions(ART_PATH, hap_gen_input, hap_seqs, read1_prof, read2_prof, out_dir)"
   ]
  },
  {
   "cell_type": "code",
   "execution_count": 147,
   "id": "9be68eb7-a8dd-4789-9000-9f894e96e89e",
   "metadata": {},
   "outputs": [
    {
     "name": "stderr",
     "output_type": "stream",
     "text": [
      "INFO:root:/home/vngo/tools/art_bin_MountRainier/art_illumina -1 art_models/ctDNAFusion_profileR1.txt -2 art_models/ctDNAFusion_profileR2.txt -na -i test_out/haplotypes/HAP1.sim.fa -p -f 99 -l 100 -m 200 -s 20 -o test_out/out_pref\n"
     ]
    }
   ],
   "source": [
    "\n",
    "output_prefix = \"test_out/out_pref\"\n",
    "read1_prof = 'art_models/ctDNAFusion_profileR1.txt'\n",
    "read2_prof = 'art_models/ctDNAFusion_profileR2.txt'\n",
    "make_art_sim_reads(ART_PATH, read1_prof, read2_prof, fasta_file, fold_cov, output_prefix)"
   ]
  },
  {
   "cell_type": "code",
   "execution_count": 69,
   "id": "9297fc5e-2160-43e7-a6e0-a0a8be0d2168",
   "metadata": {},
   "outputs": [
    {
     "data": {
      "text/plain": [
       "CompletedProcess(args=['touch', 'test_file'], returncode=0)"
      ]
     },
     "execution_count": 69,
     "metadata": {},
     "output_type": "execute_result"
    }
   ],
   "source": [
    "subprocess.run(['touch', 'test_file'], check=True, stdout=True)"
   ]
  },
  {
   "cell_type": "code",
   "execution_count": null,
   "id": "7f59572e-cbad-4fee-89c9-4bba72d28c88",
   "metadata": {},
   "outputs": [],
   "source": [
    "ls"
   ]
  },
  {
   "cell_type": "code",
   "execution_count": 108,
   "id": "b3543631-fd9f-432a-9177-1418ae860909",
   "metadata": {},
   "outputs": [
    {
     "data": {
      "text/plain": [
       "{'chr1:99999500-100000500_HAP1': 'CTTTCAATTTGTTTGAATAAAATTAAAAATCAAGGAGCTAGAAAATACCTTTGCATCCAGGGTCATCAAGTTATATCTGCAGAATAAATGCAGCCCGCCTCCTGTTTTTATAAATAGTCATTGGAACGGAGCCACGCCCATTCATTTATGTATTCTCCATGGCTGCCTTTGTTCCTTAACAGCAGCATTGGGTAACTGTGAAAGAGACCGACCATGAAAAGAGAGCCTAATCAAATCTGGCCCCTAATCTAGTCTAACCACTTCATTTTACTGATGAGAAAATTAAATACAATCATTTAATTCAGAATATTGCTAAGAAAATTTTCCAATATATCATCTTTGTTAGTTTACAGGAAGACGTATGTATATGCAGACTATTAACTGATATAAATAAAACCTGCTTCATTCGTTTGTTTTGTTGTTTCTATGGCACAGTTATAGTTCCTGGGAGCCCCGCAGAACATGGTGTTTTATTCTGACACTATATATCTAGCACTTGCACTGTAAAAATGGAAGTAATTCCCATTAGGACCAGCAAAACCTGAGGCTAAAAAAAGACAGTAAAAGCTCATGCCAAAAGCTGAATTTTACTTAATATAAAGAAAGGTGGCAGTTTCCAATTTCAGTAGAAAGTAGGAGTGTCAAATTGCTACAGAAACTGCCATCCTCCAGAGACTGACGACCCGAATGAACCCAGAGGCAATTTTTTATTCTCATGAGATGGCTTGCTTAGATATTTCTGGGAAGGAGCAGTAGGTCTTAGGAAAGGTTAGAATGTTGTTGTTTCCTGGTAACTACTTGCAGAGGTTGATAGGAGTCAATGAGACCAAACAAAAAGCAGGAATAGGGTGGGTCTGTGGCATTTAATCAGCGGCTATAGAGGATTTCAGTGGATTTTCCAGAAAGAGGAACATTTCATGGTTGAAGCTTTTATTTGCTTCTATTATTTCCACATTCTTCCCTAATGCAGTATGAATATCACAAATAGAAGCCACTTCTA',\n",
       " 'chr1:199999400-200000400_HAP1': 'AATGAGCCTCCTTTTGTTTAAAAAGCTGTCTCCATGGTTTTTAACTAGGGGCTACATCTTGTATGCACACTGATGGTTACATGAAAGTTTTGTATAGATGTCTGTGCTTGTATAGAAAAGCAGAATTAAGATAAAGTTGTTCCTTCTGCCTACCTGCAAGATAATCATTCATTGTAGTGTAAAAGCAGCACACTCAGGTTATAACTAGATTGTTCCCTTAAAGTTAACTAACTCTGGGACACTGGCCAGACTCTTGGTTTCTGGTCTTGGTTTACTTCTTTCTCCCAAGTGGGATGATTCTATTGAATAATATGCAGTACTAACTTTAGAAGCTTTTTATACTTACCTATATCAAGAAAAGAGCCATATCTGTGTGGTAGGAAATGTTATACATAAAACAAATATTTATTGACCACTCCCACAGTGCCCAATATTATGCTTTGATTCATATTAAATTTCCATAATTCTTCAAATTAACTGCATTTGCAGAATATTTTATGCACTCAGTATAATATTGCATATTATCCACAGAAGGTTATGTCTGCATACTTAGGGGTACATGATACACAGTGCAAACACTGTATTGAGTCTGTAATGTGAGTCTTGCTATCTGGTCCCCTGAACACTCTGAGTCTGATTTTATTTCAGTGATAACCTCCAGCAAGCTCTGTGCTCATAAGGATCTCTGAAAGTAGACGTTTCATCAGCGGAAAGTGTGATAGCCATTATGTCACCCTAACCTCCAGCGAGCTTTATTTAGAATGCCAGCCACACAAGCCCATGTTCTGATTCTCATAGTTGGGGCTTAGGCTGCCAGTTTCTTCTATGAAGCTAAACTCTAGAGCCTCCCTTCTTTCCATGCCCGAGTCCATCTCCAAAACAGTGCTTCTCAGATTCCTCTTTTCTGGCCTGGATCCACAGGTAGTGACCAGAGTTAACAGAGTTCTTGGGCCAGGCACAGTGTCTCAAACTGGTAATCCCAATACTTTGGGAGACTGAG'}"
      ]
     },
     "execution_count": 108,
     "metadata": {},
     "output_type": "execute_result"
    }
   ],
   "source": [
    "hap_seqs"
   ]
  },
  {
   "cell_type": "code",
   "execution_count": 4,
   "id": "6f56af8e-bff1-43c9-abbb-108bf87f1975",
   "metadata": {},
   "outputs": [
    {
     "name": "stdout",
     "output_type": "stream",
     "text": [
      "RealPythonIsGreat!\n"
     ]
    }
   ],
   "source": [
    "# concatenate.py\n",
    "def concatenate(**kwargs):\n",
    "    result = \"\"\n",
    "    # Iterating over the Python kwargs dictionary\n",
    "    for arg in kwargs.values():\n",
    "        result += arg\n",
    "    print(a)\n",
    "    return result\n",
    "\n",
    "print(concatenate(a=\"Real\", b=\"Python\", c=\"Is\", d=\"Great\", e=\"!\"))"
   ]
  },
  {
   "cell_type": "code",
   "execution_count": null,
   "id": "d10e8519-c072-4801-841c-4de51ed74b80",
   "metadata": {},
   "outputs": [],
   "source": []
  }
 ],
 "metadata": {
  "kernelspec": {
   "display_name": "base_kernel",
   "language": "python",
   "name": "base_kernel"
  },
  "language_info": {
   "codemirror_mode": {
    "name": "ipython",
    "version": 3
   },
   "file_extension": ".py",
   "mimetype": "text/x-python",
   "name": "python",
   "nbconvert_exporter": "python",
   "pygments_lexer": "ipython3",
   "version": "3.8.8"
  }
 },
 "nbformat": 4,
 "nbformat_minor": 5
}
