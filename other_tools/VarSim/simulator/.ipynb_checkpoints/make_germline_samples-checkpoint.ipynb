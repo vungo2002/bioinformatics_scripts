{
 "cells": [
  {
   "cell_type": "markdown",
   "id": "a8e717ab-9761-4b41-af86-d88ea05c8ab0",
   "metadata": {},
   "source": [
    "# Germline simulation\n",
    "* Look at real data, check several things\n",
    "* Distribution of AFs\n",
    "* Distribution of Fragment size \n",
    "* Distribution of coverages"
   ]
  },
  {
   "cell_type": "code",
   "execution_count": 2,
   "id": "cb65e4c1-ab96-481f-a94f-47e7b86589e6",
   "metadata": {},
   "outputs": [],
   "source": [
    "# Real data source (from Shichen Wang)\n",
    "# from sitao\n",
    "exome_data = \"/mnt/swu/request/deepvariant_concordance/MNV_examples/exome_examples_from_kelly\"\n",
    "sentieon_data = \"/NGSData/BamDeposit/ctDNA/210909_A01427_0110_BH3MNKDMXY/*umi_consensus.bam\"\n",
    "\n",
    "# from zhengdeng lei: \n",
    "somatic_bam = \"/mnt/zlei/projects/ctDNA/Dev_run5/work_sentieon_somatic_with_CNV_regions/*_umi_consensus.bam\""
   ]
  },
  {
   "cell_type": "code",
   "execution_count": null,
   "id": "72f36bc9-f1d8-4968-ab95-c4e58676ebcb",
   "metadata": {},
   "outputs": [],
   "source": []
  }
 ],
 "metadata": {
  "kernelspec": {
   "display_name": "base_kernel",
   "language": "python",
   "name": "base_kernel"
  },
  "language_info": {
   "codemirror_mode": {
    "name": "ipython",
    "version": 3
   },
   "file_extension": ".py",
   "mimetype": "text/x-python",
   "name": "python",
   "nbconvert_exporter": "python",
   "pygments_lexer": "ipython3",
   "version": "3.8.8"
  }
 },
 "nbformat": 4,
 "nbformat_minor": 5
}
